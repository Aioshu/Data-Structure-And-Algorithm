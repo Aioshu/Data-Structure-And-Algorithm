{
  "nbformat": 4,
  "nbformat_minor": 0,
  "metadata": {
    "colab": {
      "provenance": [],
      "authorship_tag": "ABX9TyMvdb7JFjtKTA8d+N/NgabW",
      "include_colab_link": true
    },
    "kernelspec": {
      "name": "python3",
      "display_name": "Python 3"
    },
    "language_info": {
      "name": "python"
    }
  },
  "cells": [
    {
      "cell_type": "markdown",
      "metadata": {
        "id": "view-in-github",
        "colab_type": "text"
      },
      "source": [
        "<a href=\"https://colab.research.google.com/github/Aioshu/Data-Structure-And-Algorithm/blob/main/Biagram_modelling_with_multi_character_multi_layer.ipynb\" target=\"_parent\"><img src=\"https://colab.research.google.com/assets/colab-badge.svg\" alt=\"Open In Colab\"/></a>"
      ]
    },
    {
      "cell_type": "code",
      "source": [
        "!git clone https://github.com/karpathy/makemore.git"
      ],
      "metadata": {
        "colab": {
          "base_uri": "https://localhost:8080/"
        },
        "id": "Ct517gJmUG2G",
        "outputId": "2abed74f-a663-4127-d0f9-4d8915fd9370"
      },
      "execution_count": 2,
      "outputs": [
        {
          "output_type": "stream",
          "name": "stdout",
          "text": [
            "Cloning into 'makemore'...\n",
            "remote: Enumerating objects: 64, done.\u001b[K\n",
            "remote: Counting objects: 100% (23/23), done.\u001b[K\n",
            "remote: Compressing objects: 100% (7/7), done.\u001b[K\n",
            "remote: Total 64 (delta 20), reused 16 (delta 16), pack-reused 41\u001b[K\n",
            "Receiving objects: 100% (64/64), 123.29 KiB | 671.00 KiB/s, done.\n",
            "Resolving deltas: 100% (36/36), done.\n"
          ]
        }
      ]
    },
    {
      "cell_type": "code",
      "execution_count": 3,
      "metadata": {
        "id": "6a8udgtfSpw6"
      },
      "outputs": [],
      "source": [
        "import torch\n",
        "import torch.nn.functional as F\n",
        "import matplotlib.pyplot as plt\n",
        "%matplotlib inline"
      ]
    },
    {
      "cell_type": "code",
      "source": [
        "words=open('/content/makemore/names.txt','r').read().splitlines()"
      ],
      "metadata": {
        "id": "UDl92WfgT_OJ"
      },
      "execution_count": 4,
      "outputs": []
    },
    {
      "cell_type": "code",
      "source": [
        "words[:1]"
      ],
      "metadata": {
        "colab": {
          "base_uri": "https://localhost:8080/"
        },
        "id": "YxaylCcsULcs",
        "outputId": "1d0c83c4-2cd1-4d13-e9e1-30115dfe1085"
      },
      "execution_count": 6,
      "outputs": [
        {
          "output_type": "execute_result",
          "data": {
            "text/plain": [
              "['emma']"
            ]
          },
          "metadata": {},
          "execution_count": 6
        }
      ]
    },
    {
      "cell_type": "code",
      "source": [
        "# build vocabulary of characters\n",
        "\n",
        "chars=sorted(list(set(''.join(words))))\n",
        "stoi={s:i+1 for i,s in enumerate(chars)}\n",
        "stoi['.']=0\n",
        "itos={i:s for s,i in stoi.items()}\n",
        "print(itos)"
      ],
      "metadata": {
        "colab": {
          "base_uri": "https://localhost:8080/"
        },
        "id": "bFOXDYctW437",
        "outputId": "e2ff26b0-15b5-4340-b7c2-c47b0e27af46"
      },
      "execution_count": 7,
      "outputs": [
        {
          "output_type": "stream",
          "name": "stdout",
          "text": [
            "{1: 'a', 2: 'b', 3: 'c', 4: 'd', 5: 'e', 6: 'f', 7: 'g', 8: 'h', 9: 'i', 10: 'j', 11: 'k', 12: 'l', 13: 'm', 14: 'n', 15: 'o', 16: 'p', 17: 'q', 18: 'r', 19: 's', 20: 't', 21: 'u', 22: 'v', 23: 'w', 24: 'x', 25: 'y', 26: 'z', 0: '.'}\n"
          ]
        }
      ]
    },
    {
      "cell_type": "code",
      "source": [
        "len(words)"
      ],
      "metadata": {
        "colab": {
          "base_uri": "https://localhost:8080/"
        },
        "id": "0qXG3lDQYU6H",
        "outputId": "57cccaaf-786b-4ca5-c084-8e01a6f928b7"
      },
      "execution_count": 8,
      "outputs": [
        {
          "output_type": "execute_result",
          "data": {
            "text/plain": [
              "32033"
            ]
          },
          "metadata": {},
          "execution_count": 8
        }
      ]
    },
    {
      "cell_type": "code",
      "source": [
        "# build the dataset\n",
        "\n",
        "block_size=3 # context lenght: HOw many characters do we take to predict the next words\n",
        "X,Y=[],[]\n",
        "for w in words:\n",
        "  #print(w)\n",
        "  context=[0]*block_size\n",
        "  #print(context)\n",
        "  for ch in w+'.':\n",
        "    # print(ch)\n",
        "    ix=stoi[ch]\n",
        "    # print(ix)\n",
        "    # print(context)\n",
        "    X.append(context)\n",
        "    Y.append(ix)\n",
        "    #print(\"\".join(itos[i] for i in context),'------->',itos[ix])\n",
        "    context=context[1:]+[ix] # crop and append\n",
        "    # print(context)\n",
        "\n",
        "X=torch.tensor(X)\n",
        "Y=torch.tensor(Y)"
      ],
      "metadata": {
        "id": "Ti46dHGLYYcj"
      },
      "execution_count": 115,
      "outputs": []
    },
    {
      "cell_type": "code",
      "source": [
        "C=torch.randn(27,2)"
      ],
      "metadata": {
        "id": "ezaTQ-9cYwlj"
      },
      "execution_count": 116,
      "outputs": []
    },
    {
      "cell_type": "code",
      "source": [
        "# C"
      ],
      "metadata": {
        "id": "hgbTcRPWl9bW"
      },
      "execution_count": 103,
      "outputs": []
    },
    {
      "cell_type": "code",
      "source": [
        "# F.one_hot(torch.tensor(5),num_classes=27).dtype"
      ],
      "metadata": {
        "id": "vV81GsN3b4Hn"
      },
      "execution_count": 39,
      "outputs": []
    },
    {
      "cell_type": "code",
      "source": [
        "emb=C[X]\n",
        "emb.shape"
      ],
      "metadata": {
        "colab": {
          "base_uri": "https://localhost:8080/"
        },
        "id": "4NNxNF0Fb8Z_",
        "outputId": "adc6628a-5fc4-4c71-ee0e-2b2314656280"
      },
      "execution_count": 40,
      "outputs": [
        {
          "output_type": "execute_result",
          "data": {
            "text/plain": [
              "torch.Size([32, 3, 2])"
            ]
          },
          "metadata": {},
          "execution_count": 40
        }
      ]
    },
    {
      "cell_type": "code",
      "source": [
        "# F.one_hot(torch.tensor(5),num_classes=27).float() @ C"
      ],
      "metadata": {
        "id": "kG2uOI2saBsg"
      },
      "execution_count": 31,
      "outputs": []
    },
    {
      "cell_type": "code",
      "source": [
        "W1=torch.randn(6,100)\n",
        "b1= torch.randn(100)"
      ],
      "metadata": {
        "id": "TqQMeaQibhOd"
      },
      "execution_count": 41,
      "outputs": []
    },
    {
      "cell_type": "code",
      "source": [
        "h=emb.view(emb.shape[0],6) @ W1 +b1\n",
        "h= torch.tanh(h)\n",
        "h"
      ],
      "metadata": {
        "colab": {
          "base_uri": "https://localhost:8080/"
        },
        "id": "oG5ccEAFdS39",
        "outputId": "71960d29-8e0e-4c75-ea99-75ee433f6e90"
      },
      "execution_count": 63,
      "outputs": [
        {
          "output_type": "execute_result",
          "data": {
            "text/plain": [
              "tensor([[-0.5510, -0.9992,  0.7158,  ...,  0.9459,  0.9704,  0.9635],\n",
              "        [-0.8229,  0.9998,  0.8637,  ..., -0.9729,  0.9884, -0.9840],\n",
              "        [-1.0000,  0.9999, -0.5491,  ...,  0.0975,  0.5724, -0.8728],\n",
              "        ...,\n",
              "        [-0.9565,  0.9973, -0.9999,  ..., -0.8383,  0.8048, -0.9538],\n",
              "        [-0.9982,  1.0000, -0.7693,  ..., -0.9929, -0.9766, -0.9981],\n",
              "        [-0.9873, -0.7541,  1.0000,  ..., -0.9849,  0.8997, -0.9845]])"
            ]
          },
          "metadata": {},
          "execution_count": 63
        }
      ]
    },
    {
      "cell_type": "code",
      "source": [
        "W2= torch.randn(100,27)\n",
        "b2=torch.rand(27)"
      ],
      "metadata": {
        "id": "kSdrlE6KgVZC"
      },
      "execution_count": 68,
      "outputs": []
    },
    {
      "cell_type": "code",
      "source": [
        "logits=h @ W2 +b2"
      ],
      "metadata": {
        "id": "6DjO48K7glNJ"
      },
      "execution_count": 69,
      "outputs": []
    },
    {
      "cell_type": "code",
      "source": [
        "logits.shape"
      ],
      "metadata": {
        "colab": {
          "base_uri": "https://localhost:8080/"
        },
        "id": "iZB41njVglJX",
        "outputId": "8a6fa851-b133-48ed-bfb8-d7af727eb56c"
      },
      "execution_count": 70,
      "outputs": [
        {
          "output_type": "execute_result",
          "data": {
            "text/plain": [
              "torch.Size([32, 27])"
            ]
          },
          "metadata": {},
          "execution_count": 70
        }
      ]
    },
    {
      "cell_type": "code",
      "source": [
        "counts=logits.exp()"
      ],
      "metadata": {
        "id": "p13Fv0chglGW"
      },
      "execution_count": 71,
      "outputs": []
    },
    {
      "cell_type": "code",
      "source": [
        "prob=counts/counts.sum(1,keepdims=True)"
      ],
      "metadata": {
        "id": "HyoqR2GCglDH"
      },
      "execution_count": 82,
      "outputs": []
    },
    {
      "cell_type": "code",
      "source": [
        "prob.shape\n",
        "# (emb.shape[0],6).shape"
      ],
      "metadata": {
        "colab": {
          "base_uri": "https://localhost:8080/"
        },
        "id": "3tl4RQTKgHzp",
        "outputId": "150364e1-b519-4fdf-e135-a022c0a0049e"
      },
      "execution_count": 83,
      "outputs": [
        {
          "output_type": "execute_result",
          "data": {
            "text/plain": [
              "torch.Size([32, 27])"
            ]
          },
          "metadata": {},
          "execution_count": 83
        }
      ]
    },
    {
      "cell_type": "code",
      "source": [
        "prob[0].sum()"
      ],
      "metadata": {
        "colab": {
          "base_uri": "https://localhost:8080/"
        },
        "id": "Asl76-kpg_pI",
        "outputId": "29869246-c4c6-4a71-88b0-d35e0e623b14"
      },
      "execution_count": 84,
      "outputs": [
        {
          "output_type": "execute_result",
          "data": {
            "text/plain": [
              "tensor(1.0000)"
            ]
          },
          "metadata": {},
          "execution_count": 84
        }
      ]
    },
    {
      "cell_type": "code",
      "source": [
        "Y"
      ],
      "metadata": {
        "colab": {
          "base_uri": "https://localhost:8080/"
        },
        "id": "suY5WUmsg_mN",
        "outputId": "bffd1834-92d5-473e-9f94-ca394de5a2f9"
      },
      "execution_count": 79,
      "outputs": [
        {
          "output_type": "execute_result",
          "data": {
            "text/plain": [
              "tensor([ 5, 13, 13,  1,  0, 15, 12,  9, 22,  9,  1,  0,  1, 22,  1,  0,  9, 19,\n",
              "         1,  2,  5, 12, 12,  1,  0, 19, 15, 16,  8,  9,  1,  0])"
            ]
          },
          "metadata": {},
          "execution_count": 79
        }
      ]
    },
    {
      "cell_type": "code",
      "source": [
        "loss=-prob[torch.arange(32),Y].log().mean()\n",
        "loss"
      ],
      "metadata": {
        "colab": {
          "base_uri": "https://localhost:8080/"
        },
        "id": "d0bcESzXhgW3",
        "outputId": "f09c9f63-0adf-4c34-d9e6-651823032e93"
      },
      "execution_count": 90,
      "outputs": [
        {
          "output_type": "execute_result",
          "data": {
            "text/plain": [
              "tensor(15.2905)"
            ]
          },
          "metadata": {},
          "execution_count": 90
        }
      ]
    },
    {
      "cell_type": "code",
      "source": [
        "torch.arange(32)"
      ],
      "metadata": {
        "colab": {
          "base_uri": "https://localhost:8080/"
        },
        "id": "kJyXge7Jg_jE",
        "outputId": "0b8c40af-239e-4b40-efbe-b0e71923ea98"
      },
      "execution_count": 81,
      "outputs": [
        {
          "output_type": "execute_result",
          "data": {
            "text/plain": [
              "tensor([ 0,  1,  2,  3,  4,  5,  6,  7,  8,  9, 10, 11, 12, 13, 14, 15, 16, 17,\n",
              "        18, 19, 20, 21, 22, 23, 24, 25, 26, 27, 28, 29, 30, 31])"
            ]
          },
          "metadata": {},
          "execution_count": 81
        }
      ]
    },
    {
      "cell_type": "code",
      "source": [],
      "metadata": {
        "id": "dvtCG8w7g_ec"
      },
      "execution_count": null,
      "outputs": []
    },
    {
      "cell_type": "code",
      "source": [],
      "metadata": {
        "id": "93gXAEuEg_a5"
      },
      "execution_count": null,
      "outputs": []
    },
    {
      "cell_type": "code",
      "source": [],
      "metadata": {
        "id": "bKSWixEFg_Xg"
      },
      "execution_count": null,
      "outputs": []
    },
    {
      "cell_type": "code",
      "source": [
        "torch.cat([emb[:,0,:], emb[:,1,:], emb[:,2,:]],1).shape"
      ],
      "metadata": {
        "colab": {
          "base_uri": "https://localhost:8080/"
        },
        "id": "SS4sQ3rBdWui",
        "outputId": "780f3659-b30d-433b-9ca3-143c45c43387"
      },
      "execution_count": 50,
      "outputs": [
        {
          "output_type": "execute_result",
          "data": {
            "text/plain": [
              "torch.Size([32, 6])"
            ]
          },
          "metadata": {},
          "execution_count": 50
        }
      ]
    },
    {
      "cell_type": "code",
      "source": [
        "torch.cat(torch.unbind(emb,1),1).shape"
      ],
      "metadata": {
        "colab": {
          "base_uri": "https://localhost:8080/"
        },
        "id": "m3DOWk6Ldqr9",
        "outputId": "e86f231b-62d1-49ac-87e8-6b474e991aae"
      },
      "execution_count": 52,
      "outputs": [
        {
          "output_type": "execute_result",
          "data": {
            "text/plain": [
              "torch.Size([32, 6])"
            ]
          },
          "metadata": {},
          "execution_count": 52
        }
      ]
    },
    {
      "cell_type": "code",
      "source": [
        "a=torch.arange(18)\n",
        "a.shape"
      ],
      "metadata": {
        "colab": {
          "base_uri": "https://localhost:8080/"
        },
        "id": "AbhhTjeteYmA",
        "outputId": "d5ac7358-318b-4f9d-a6a6-47ad7ff4b171"
      },
      "execution_count": 55,
      "outputs": [
        {
          "output_type": "execute_result",
          "data": {
            "text/plain": [
              "torch.Size([18])"
            ]
          },
          "metadata": {},
          "execution_count": 55
        }
      ]
    },
    {
      "cell_type": "code",
      "source": [
        "a"
      ],
      "metadata": {
        "colab": {
          "base_uri": "https://localhost:8080/"
        },
        "id": "UhEcRPsoehtc",
        "outputId": "2137520b-b9cf-403b-8a27-52949e92ef99"
      },
      "execution_count": 56,
      "outputs": [
        {
          "output_type": "execute_result",
          "data": {
            "text/plain": [
              "tensor([ 0,  1,  2,  3,  4,  5,  6,  7,  8,  9, 10, 11, 12, 13, 14, 15, 16, 17])"
            ]
          },
          "metadata": {},
          "execution_count": 56
        }
      ]
    },
    {
      "cell_type": "code",
      "source": [
        "a.view(2,3,3)"
      ],
      "metadata": {
        "colab": {
          "base_uri": "https://localhost:8080/"
        },
        "id": "CX7N5njjesn6",
        "outputId": "68950297-37da-4db9-f353-8234098967e6"
      },
      "execution_count": 58,
      "outputs": [
        {
          "output_type": "execute_result",
          "data": {
            "text/plain": [
              "tensor([[[ 0,  1,  2],\n",
              "         [ 3,  4,  5],\n",
              "         [ 6,  7,  8]],\n",
              "\n",
              "        [[ 9, 10, 11],\n",
              "         [12, 13, 14],\n",
              "         [15, 16, 17]]])"
            ]
          },
          "metadata": {},
          "execution_count": 58
        }
      ]
    },
    {
      "cell_type": "code",
      "source": [
        "a.storage()"
      ],
      "metadata": {
        "id": "7AiHXn1EexO4"
      },
      "execution_count": null,
      "outputs": []
    },
    {
      "cell_type": "code",
      "source": [
        "emb.shape"
      ],
      "metadata": {
        "colab": {
          "base_uri": "https://localhost:8080/"
        },
        "id": "cETjh6eCe_oU",
        "outputId": "b3148b28-c87b-4202-d1ef-da790219a049"
      },
      "execution_count": 60,
      "outputs": [
        {
          "output_type": "execute_result",
          "data": {
            "text/plain": [
              "torch.Size([32, 3, 2])"
            ]
          },
          "metadata": {},
          "execution_count": 60
        }
      ]
    },
    {
      "cell_type": "code",
      "source": [
        "emb.view(32,6)"
      ],
      "metadata": {
        "colab": {
          "base_uri": "https://localhost:8080/"
        },
        "id": "bpKHaM78fTwj",
        "outputId": "3f55e382-c1da-425a-d484-c336e6d4dcca"
      },
      "execution_count": 61,
      "outputs": [
        {
          "output_type": "execute_result",
          "data": {
            "text/plain": [
              "tensor([[ 0.9482,  0.4810,  0.9482,  0.4810,  0.9482,  0.4810],\n",
              "        [ 0.9482,  0.4810,  0.9482,  0.4810, -1.8260,  1.3776],\n",
              "        [ 0.9482,  0.4810, -1.8260,  1.3776, -0.6554,  0.4417],\n",
              "        [-1.8260,  1.3776, -0.6554,  0.4417, -0.6554,  0.4417],\n",
              "        [-0.6554,  0.4417, -0.6554,  0.4417,  0.5662,  1.6609],\n",
              "        [ 0.9482,  0.4810,  0.9482,  0.4810,  0.9482,  0.4810],\n",
              "        [ 0.9482,  0.4810,  0.9482,  0.4810,  0.5496, -0.1373],\n",
              "        [ 0.9482,  0.4810,  0.5496, -0.1373,  0.7793, -0.8842],\n",
              "        [ 0.5496, -0.1373,  0.7793, -0.8842, -1.0744, -1.1760],\n",
              "        [ 0.7793, -0.8842, -1.0744, -1.1760, -1.1402,  0.0546],\n",
              "        [-1.0744, -1.1760, -1.1402,  0.0546, -1.0744, -1.1760],\n",
              "        [-1.1402,  0.0546, -1.0744, -1.1760,  0.5662,  1.6609],\n",
              "        [ 0.9482,  0.4810,  0.9482,  0.4810,  0.9482,  0.4810],\n",
              "        [ 0.9482,  0.4810,  0.9482,  0.4810,  0.5662,  1.6609],\n",
              "        [ 0.9482,  0.4810,  0.5662,  1.6609, -1.1402,  0.0546],\n",
              "        [ 0.5662,  1.6609, -1.1402,  0.0546,  0.5662,  1.6609],\n",
              "        [ 0.9482,  0.4810,  0.9482,  0.4810,  0.9482,  0.4810],\n",
              "        [ 0.9482,  0.4810,  0.9482,  0.4810, -1.0744, -1.1760],\n",
              "        [ 0.9482,  0.4810, -1.0744, -1.1760, -0.3922, -2.4842],\n",
              "        [-1.0744, -1.1760, -0.3922, -2.4842,  0.5662,  1.6609],\n",
              "        [-0.3922, -2.4842,  0.5662,  1.6609, -0.7875, -0.9390],\n",
              "        [ 0.5662,  1.6609, -0.7875, -0.9390, -1.8260,  1.3776],\n",
              "        [-0.7875, -0.9390, -1.8260,  1.3776,  0.7793, -0.8842],\n",
              "        [-1.8260,  1.3776,  0.7793, -0.8842,  0.7793, -0.8842],\n",
              "        [ 0.7793, -0.8842,  0.7793, -0.8842,  0.5662,  1.6609],\n",
              "        [ 0.9482,  0.4810,  0.9482,  0.4810,  0.9482,  0.4810],\n",
              "        [ 0.9482,  0.4810,  0.9482,  0.4810, -0.3922, -2.4842],\n",
              "        [ 0.9482,  0.4810, -0.3922, -2.4842,  0.5496, -0.1373],\n",
              "        [-0.3922, -2.4842,  0.5496, -0.1373,  0.5734,  0.4696],\n",
              "        [ 0.5496, -0.1373,  0.5734,  0.4696, -1.0675, -1.8094],\n",
              "        [ 0.5734,  0.4696, -1.0675, -1.8094, -1.0744, -1.1760],\n",
              "        [-1.0675, -1.8094, -1.0744, -1.1760,  0.5662,  1.6609]])"
            ]
          },
          "metadata": {},
          "execution_count": 61
        }
      ]
    },
    {
      "cell_type": "code",
      "source": [
        "#################### more clean ##########################################################"
      ],
      "metadata": {
        "id": "m_LHRHXZiYXo"
      },
      "execution_count": null,
      "outputs": []
    },
    {
      "cell_type": "code",
      "source": [
        "X"
      ],
      "metadata": {
        "colab": {
          "base_uri": "https://localhost:8080/"
        },
        "id": "EhazwKZWldTf",
        "outputId": "2a517377-371b-446c-b179-b19d71ba3ba1"
      },
      "execution_count": 165,
      "outputs": [
        {
          "output_type": "execute_result",
          "data": {
            "text/plain": [
              "tensor([[ 0,  0,  0],\n",
              "        [ 0,  0,  5],\n",
              "        [ 0,  5, 13],\n",
              "        ...,\n",
              "        [26, 26, 25],\n",
              "        [26, 25, 26],\n",
              "        [25, 26, 24]])"
            ]
          },
          "metadata": {},
          "execution_count": 165
        }
      ]
    },
    {
      "cell_type": "code",
      "source": [
        "X.shape, Y.shape"
      ],
      "metadata": {
        "colab": {
          "base_uri": "https://localhost:8080/"
        },
        "id": "DPuZl8LLfV7R",
        "outputId": "31ef2088-f949-4c10-e5a9-78bd8db23323"
      },
      "execution_count": 166,
      "outputs": [
        {
          "output_type": "execute_result",
          "data": {
            "text/plain": [
              "(torch.Size([228146, 3]), torch.Size([228146]))"
            ]
          },
          "metadata": {},
          "execution_count": 166
        }
      ]
    },
    {
      "cell_type": "code",
      "source": [
        "g=torch.Generator().manual_seed(2147483627)\n",
        "C=torch.randn((27,2),generator=g)  # WHy we made this\n",
        "W1=torch.randn((6,100),generator=g)\n",
        "b1=torch.randn(100,generator=g)\n",
        "W2=torch.randn((100,27),generator=g)\n",
        "b2=torch.randn(27,generator=g)\n",
        "\n",
        "parameters=[C, W1, b1 , W2, b2]"
      ],
      "metadata": {
        "id": "L0b2Q3kqidFo"
      },
      "execution_count": 182,
      "outputs": []
    },
    {
      "cell_type": "code",
      "source": [
        "sum(p.nelement() for p in parameters)"
      ],
      "metadata": {
        "colab": {
          "base_uri": "https://localhost:8080/"
        },
        "id": "mD1vZKKOjlY1",
        "outputId": "7ac510b5-bc19-4495-a572-2d14dd07edb8"
      },
      "execution_count": 183,
      "outputs": [
        {
          "output_type": "execute_result",
          "data": {
            "text/plain": [
              "3481"
            ]
          },
          "metadata": {},
          "execution_count": 183
        }
      ]
    },
    {
      "cell_type": "code",
      "source": [
        "for p in parameters:\n",
        "  p.requires_grad=True"
      ],
      "metadata": {
        "id": "N_isfVHspsFO"
      },
      "execution_count": 184,
      "outputs": []
    },
    {
      "cell_type": "code",
      "source": [
        "lre=torch.linspace(-3,0,100000)\n",
        "lrs=10**lre\n",
        "lrs[1]"
      ],
      "metadata": {
        "colab": {
          "base_uri": "https://localhost:8080/"
        },
        "id": "9ay_Iquas_JM",
        "outputId": "48c1e021-b5be-4721-b816-3b63283e17b8"
      },
      "execution_count": 189,
      "outputs": [
        {
          "output_type": "execute_result",
          "data": {
            "text/plain": [
              "tensor(0.0010)"
            ]
          },
          "metadata": {},
          "execution_count": 189
        }
      ]
    },
    {
      "cell_type": "code",
      "source": [
        "lre"
      ],
      "metadata": {
        "colab": {
          "base_uri": "https://localhost:8080/"
        },
        "id": "FLD1emrrupwn",
        "outputId": "fa2a6c29-05a6-45fa-e27f-9a37bad9e5e2"
      },
      "execution_count": 190,
      "outputs": [
        {
          "output_type": "execute_result",
          "data": {
            "text/plain": [
              "tensor([-3.0000e+00, -3.0000e+00, -2.9999e+00,  ..., -6.0001e-05,\n",
              "        -3.0000e-05,  0.0000e+00])"
            ]
          },
          "metadata": {},
          "execution_count": 190
        }
      ]
    },
    {
      "cell_type": "code",
      "source": [
        "lri=[]\n",
        "lossi=[]\n",
        "for i in range(100000):\n",
        "  # mini batch construct\n",
        "  ix=torch.randint(0,X.shape[0],(32,))\n",
        "\n",
        "  # forward pass\n",
        "  emb=C[X[ix]] # (32,3,2)\n",
        "\n",
        "  h=torch.tanh(emb.view(-1,6) @ W1 +b1) # (32, 100)\n",
        "  logits=h @ W2 +b2# (32,27)\n",
        "  loss=F.cross_entropy(logits,Y[ix])\n",
        "  #print(loss.item())\n",
        "\n",
        "  # backword pass\n",
        "  for p in parameters:\n",
        "    p.grad=None\n",
        "  loss.backward()\n",
        "\n",
        "  # update\n",
        "  lr=lrs[i]\n",
        "  lri.append(lr)\n",
        "  lossi.append(loss.item())\n",
        "  for p in parameters:\n",
        "    p.data+= -lr*p.grad\n",
        "\n",
        "print(loss.item())"
      ],
      "metadata": {
        "colab": {
          "base_uri": "https://localhost:8080/"
        },
        "id": "inxkkLJgjtXm",
        "outputId": "d1173f3b-fbed-449f-ef00-3b4bc2a7a54d"
      },
      "execution_count": 191,
      "outputs": [
        {
          "output_type": "stream",
          "name": "stdout",
          "text": [
            "2.6573565006256104\n"
          ]
        }
      ]
    },
    {
      "cell_type": "code",
      "source": [
        "plt.plot(lri,lossi)"
      ],
      "metadata": {
        "colab": {
          "base_uri": "https://localhost:8080/",
          "height": 447
        },
        "id": "0gsUfD2vuKJe",
        "outputId": "2d91963d-a889-484e-acde-70be54316155"
      },
      "execution_count": 192,
      "outputs": [
        {
          "output_type": "execute_result",
          "data": {
            "text/plain": [
              "[<matplotlib.lines.Line2D at 0x7f7887123070>]"
            ]
          },
          "metadata": {},
          "execution_count": 192
        },
        {
          "output_type": "display_data",
          "data": {
            "text/plain": [
              "<Figure size 640x480 with 1 Axes>"
            ],
            "image/png": "[encoded data removed]"
          },
          "metadata": {}
        }
      ]
    },
    {
      "cell_type": "code",
      "source": [
        "# forward pass\n",
        "emb=C[X] # (32,3,2)\n",
        "\n",
        "h=torch.tanh(emb.view(-1,6) @ W1 +b1) # (32, 100)\n",
        "logits=h @ W2 +b2# (32,27)\n",
        "loss=F.cross_entropy(logits,Y)\n",
        "print(loss.item())"
      ],
      "metadata": {
        "colab": {
          "base_uri": "https://localhost:8080/"
        },
        "id": "4Wg22fZqscIo",
        "outputId": "8c07a86e-abbc-4155-ab24-1329ece88e35"
      },
      "execution_count": 193,
      "outputs": [
        {
          "output_type": "stream",
          "name": "stdout",
          "text": [
            "2.511772632598877\n"
          ]
        }
      ]
    },
    {
      "cell_type": "code",
      "source": [],
      "metadata": {
        "id": "LSk8yM0YwOM0"
      },
      "execution_count": null,
      "outputs": []
    },
    {
      "cell_type": "code",
      "source": [
        "logits.max(1)"
      ],
      "metadata": {
        "colab": {
          "base_uri": "https://localhost:8080/"
        },
        "id": "I5vvZEY3koZC",
        "outputId": "498c6148-a160-42a1-89c2-9fad4b420e92"
      },
      "execution_count": 128,
      "outputs": [
        {
          "output_type": "execute_result",
          "data": {
            "text/plain": [
              "torch.return_types.max(\n",
              "values=tensor([4.6055, 3.4909, 4.1208, 3.3168, 3.9747, 2.9787, 4.4833, 2.9182, 3.3838,\n",
              "        2.9062, 4.8930, 3.0737, 3.4152, 3.9747, 5.3431, 3.0742, 4.3264, 3.2350,\n",
              "        3.9747, 3.8137, 5.5323, 4.7354, 3.4737, 4.8483, 4.8553, 3.7628, 3.0742,\n",
              "        3.3827, 5.4682, 5.2396, 4.6388, 3.7076], grad_fn=<MaxBackward0>),\n",
              "indices=tensor([ 0,  1,  1, 13, 13,  1, 14,  1, 14,  1,  0,  1,  1, 13, 13,  1,  0,  9,\n",
              "        13,  8, 19,  0,  1, 14,  0,  1,  1,  1,  4,  0,  0,  1]))"
            ]
          },
          "metadata": {},
          "execution_count": 128
        }
      ]
    },
    {
      "cell_type": "code",
      "source": [
        "Y"
      ],
      "metadata": {
        "colab": {
          "base_uri": "https://localhost:8080/"
        },
        "id": "UDc7Uqz7qQB0",
        "outputId": "23c4f2ec-64af-495c-f6a4-042600b8b515"
      },
      "execution_count": 114,
      "outputs": [
        {
          "output_type": "execute_result",
          "data": {
            "text/plain": [
              "tensor([ 5, 13, 13,  1,  0, 15, 12,  9, 22,  9,  1,  0,  1, 22,  1,  0,  9, 19,\n",
              "         1,  2,  5, 12, 12,  1,  0, 19, 15, 16,  8,  9,  1,  0])"
            ]
          },
          "metadata": {},
          "execution_count": 114
        }
      ]
    },
    {
      "cell_type": "code",
      "source": [
        "torch.randint(0,X.shape[0],(32,))"
      ],
      "metadata": {
        "colab": {
          "base_uri": "https://localhost:8080/"
        },
        "id": "5LNI4-62qRzM",
        "outputId": "b02c7a62-89e8-42d5-b8bb-e0497fa529b8"
      },
      "execution_count": 124,
      "outputs": [
        {
          "output_type": "execute_result",
          "data": {
            "text/plain": [
              "tensor([ 83342, 119767,  47631, 155941, 159413,   6103,  44580, 192043, 167108,\n",
              "        215125, 164667,  36134, 188847,  52984, 209185,  14696,  64366, 178751,\n",
              "        184079, 199097, 192343, 224795, 130313, 125611,  99493, 184129, 201267,\n",
              "          1483,  74903, 155613, 104637, 209638])"
            ]
          },
          "metadata": {},
          "execution_count": 124
        }
      ]
    },
    {
      "cell_type": "code",
      "source": [],
      "metadata": {
        "id": "ElAWf6QzrJ78"
      },
      "execution_count": null,
      "outputs": []
    }
  ]
}