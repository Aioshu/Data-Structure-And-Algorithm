{
  "nbformat": 4,
  "nbformat_minor": 0,
  "metadata": {
    "colab": {
      "provenance": [],
      "authorship_tag": "ABX9TyMQ1fMpA882VZqGp1fskLhT",
      "include_colab_link": true
    },
    "kernelspec": {
      "name": "python3",
      "display_name": "Python 3"
    },
    "language_info": {
      "name": "python"
    }
  },
  "cells": [
    {
      "cell_type": "markdown",
      "metadata": {
        "id": "view-in-github",
        "colab_type": "text"
      },
      "source": [
        "<a href=\"https://colab.research.google.com/github/Aioshu/Data-Structure-And-Algorithm/blob/main/DSA_in_python.ipynb\" target=\"_parent\"><img src=\"https://colab.research.google.com/assets/colab-badge.svg\" alt=\"Open In Colab\"/></a>"
      ]
    },
    {
      "cell_type": "code",
      "execution_count": 1,
      "metadata": {
        "id": "nZEwdFTLGXYp"
      },
      "outputs": [],
      "source": [
        "####1 sum of N natural number"
      ]
    },
    {
      "cell_type": "code",
      "source": [
        "def sum_of_n_natural(n):\n",
        "  s=0\n",
        "  for i in range(n+1):\n",
        "    s=s+i\n",
        "  print(s)\n",
        "  return s\n",
        "n=input(\"enter no. n whose n natural number is required:\")\n",
        "sum_of_n_natural(int(n))"
      ],
      "metadata": {
        "colab": {
          "base_uri": "https://localhost:8080/"
        },
        "id": "RzXzlDRoGgrf",
        "outputId": "7f84852f-f59c-4daa-9c74-f0c3fea48535"
      },
      "execution_count": 7,
      "outputs": [
        {
          "output_type": "stream",
          "name": "stdout",
          "text": [
            "enter no. n whose n natural number is required:3\n",
            "6\n"
          ]
        },
        {
          "output_type": "execute_result",
          "data": {
            "text/plain": [
              "6"
            ]
          },
          "metadata": {},
          "execution_count": 7
        }
      ]
    },
    {
      "cell_type": "code",
      "source": [
        "def sum_of_n_natural(n):\n",
        "  s=n*(n+1)/2\n",
        "  return s\n",
        "n=input(\"enter no. n whose n natural number is required:\")\n",
        "sum_of_n_natural(int(n))\n"
      ],
      "metadata": {
        "colab": {
          "base_uri": "https://localhost:8080/"
        },
        "id": "Cc8_vBxqHWL9",
        "outputId": "f98eabdd-4616-47c8-ba97-c6b09976d866"
      },
      "execution_count": 9,
      "outputs": [
        {
          "name": "stdout",
          "output_type": "stream",
          "text": [
            "enter no. n whose n natural number is required:3\n"
          ]
        },
        {
          "output_type": "execute_result",
          "data": {
            "text/plain": [
              "6.0"
            ]
          },
          "metadata": {},
          "execution_count": 9
        }
      ]
    },
    {
      "cell_type": "code",
      "source": [
        "#### code to count digit"
      ],
      "metadata": {
        "id": "i-RZllSoH6JJ"
      },
      "execution_count": 10,
      "outputs": []
    },
    {
      "cell_type": "code",
      "source": [
        "def count_digit(n):\n",
        "  length=len(list(n))\n",
        "  return length\n",
        "\n",
        "n=input(\"Enter the number and get the count digits\")\n",
        "count_digit(n)\n"
      ],
      "metadata": {
        "colab": {
          "base_uri": "https://localhost:8080/"
        },
        "id": "e44QL-qBIFfF",
        "outputId": "4e749b1a-27d0-495b-abb8-571d52248a01"
      },
      "execution_count": 17,
      "outputs": [
        {
          "name": "stdout",
          "output_type": "stream",
          "text": [
            "Enter the number and get the count digits5675675756\n"
          ]
        },
        {
          "output_type": "execute_result",
          "data": {
            "text/plain": [
              "10"
            ]
          },
          "metadata": {},
          "execution_count": 17
        }
      ]
    },
    {
      "cell_type": "code",
      "source": [
        "int(262/10)"
      ],
      "metadata": {
        "colab": {
          "base_uri": "https://localhost:8080/"
        },
        "id": "DAdlfK1fJbdD",
        "outputId": "c05010cd-c2af-4ab2-a326-312a6f2fa877"
      },
      "execution_count": 26,
      "outputs": [
        {
          "output_type": "execute_result",
          "data": {
            "text/plain": [
              "26"
            ]
          },
          "metadata": {},
          "execution_count": 26
        }
      ]
    },
    {
      "cell_type": "code",
      "source": [
        "def count_digit(n):\n",
        "  # length=len(list(n))\n",
        "  # return length\n",
        "  count=0\n",
        "  while(n>0):\n",
        "    n=int(n/10)\n",
        "    count=count+1\n",
        "  return count\n",
        "\n",
        "\n",
        "n=input(\"Enter the number and get the count digits:\")\n",
        "count_digit(int(n))"
      ],
      "metadata": {
        "colab": {
          "base_uri": "https://localhost:8080/"
        },
        "id": "CKMWQeo9JOKo",
        "outputId": "c8cb31e8-c323-4d2f-fc34-adce1983cdef"
      },
      "execution_count": 29,
      "outputs": [
        {
          "name": "stdout",
          "output_type": "stream",
          "text": [
            "Enter the number and get the count digits:43214321\n"
          ]
        },
        {
          "output_type": "execute_result",
          "data": {
            "text/plain": [
              "8"
            ]
          },
          "metadata": {},
          "execution_count": 29
        }
      ]
    },
    {
      "cell_type": "code",
      "source": [
        "#### palindrome"
      ],
      "metadata": {
        "id": "kkMEGw42LFh4"
      },
      "execution_count": 30,
      "outputs": []
    },
    {
      "cell_type": "code",
      "source": [
        "def palindrome(n):\n",
        "  m=n[::-1]\n",
        "  if n==m:\n",
        "    print(\"Palindrome\")\n",
        "  else:\n",
        "    print(\"Not a Palindrome\")\n",
        "\n",
        "s=input(\"Enter the text or list:\")\n",
        "palindrome(list(s))\n"
      ],
      "metadata": {
        "colab": {
          "base_uri": "https://localhost:8080/"
        },
        "id": "WsbTfPjBLaVh",
        "outputId": "0b330e2b-2cb1-4038-a7e4-0b25475ebe76"
      },
      "execution_count": 44,
      "outputs": [
        {
          "output_type": "stream",
          "name": "stdout",
          "text": [
            "Enter the text or list:12321\n",
            "Palindrome\n"
          ]
        }
      ]
    },
    {
      "cell_type": "code",
      "source": [
        "def palindrome(n):\n",
        "  m=n.copy()\n",
        "  n.reverse()\n",
        "  if n==m:\n",
        "    print(\"Palindrome\")\n",
        "  else:\n",
        "    print(\"Not a Palindrome\")\n",
        "\n",
        "s=input(\"Enter the text or list:\")\n",
        "palindrome(list(s))\n"
      ],
      "metadata": {
        "colab": {
          "base_uri": "https://localhost:8080/"
        },
        "id": "lUR2WQfiL3_u",
        "outputId": "d3ae3214-48fd-4ece-bfcb-cfb8e19eb3e4"
      },
      "execution_count": 65,
      "outputs": [
        {
          "output_type": "stream",
          "name": "stdout",
          "text": [
            "Enter the text or list:nitin\n",
            "Palindrome\n"
          ]
        }
      ]
    },
    {
      "cell_type": "code",
      "source": [
        "[1,2,3,4][-2]"
      ],
      "metadata": {
        "colab": {
          "base_uri": "https://localhost:8080/"
        },
        "id": "lpSajx_7Pgjb",
        "outputId": "3a107236-6fbd-4e31-c100-6ac75796d45f"
      },
      "execution_count": 76,
      "outputs": [
        {
          "output_type": "execute_result",
          "data": {
            "text/plain": [
              "3"
            ]
          },
          "metadata": {},
          "execution_count": 76
        }
      ]
    },
    {
      "cell_type": "code",
      "source": [
        "123//10"
      ],
      "metadata": {
        "colab": {
          "base_uri": "https://localhost:8080/"
        },
        "id": "WDS4WBq3DeLN",
        "outputId": "6888932a-cd2a-426f-d9f7-ad0a76f645d6"
      },
      "execution_count": 4,
      "outputs": [
        {
          "output_type": "execute_result",
          "data": {
            "text/plain": [
              "12"
            ]
          },
          "metadata": {},
          "execution_count": 4
        }
      ]
    },
    {
      "cell_type": "code",
      "source": [
        "def palindrome(n):\n",
        "  #123\n",
        "  # 3\n",
        "  reverse=0\n",
        "  m=n\n",
        "  while(n>0):\n",
        "    reverse=reverse*10+n%10\n",
        "    n=n//10\n",
        "\n",
        "  if reverse==m:\n",
        "    print(\"Palindrome\")\n",
        "  else:\n",
        "    print(\"Not a Palindrome\")\n",
        "\n",
        "s=input(\"Enter the number and check if that is palindrome or not:\")\n",
        "palindrome(int(s))\n"
      ],
      "metadata": {
        "colab": {
          "base_uri": "https://localhost:8080/"
        },
        "id": "hXnCGfbcNgJR",
        "outputId": "99aaf9a5-2b53-4e3a-c843-f56f5bd5ccfb"
      },
      "execution_count": 11,
      "outputs": [
        {
          "output_type": "stream",
          "name": "stdout",
          "text": [
            "Enter the number and check if that is palindrome or not:23432\n",
            "Palindrome\n"
          ]
        }
      ]
    },
    {
      "cell_type": "code",
      "source": [
        "#### Trailing Zeros in Factorial"
      ],
      "metadata": {
        "id": "Z3TJIAN2ELge"
      },
      "execution_count": null,
      "outputs": []
    },
    {
      "cell_type": "code",
      "source": [
        "# Input: n = 5\n",
        "# Output: 1\n",
        "# Factorial of 5 is 120 which has one trailing 0.\n",
        "\n",
        "# Input: n = 20\n",
        "# Output: 4\n",
        "# Factorial of 20 is 2432902008176640000 which has\n",
        "# 4 trailing zeroes.\n",
        "\n",
        "# Input: n = 100\n",
        "# Output: 24"
      ],
      "metadata": {
        "id": "t3qsMvYQFCTM"
      },
      "execution_count": null,
      "outputs": []
    },
    {
      "cell_type": "code",
      "source": [
        "# naive approuch\n",
        "def trailing_zeros(n):\n",
        "  f=1\n",
        "  for i in range(1,n+1):\n",
        "    f=f*i\n",
        "  #print(f)\n",
        "  count_zero=0\n",
        "\n",
        "  while(f%10==0):\n",
        "    count_zero=count_zero+1\n",
        "    f=f//10\n",
        "  return count_zero\n",
        "\n",
        "\n",
        "s=input(\"Enter the number and check if that is palindrome or not:\")\n",
        "trailing_zeros(int(s))\n"
      ],
      "metadata": {
        "colab": {
          "base_uri": "https://localhost:8080/"
        },
        "id": "e3BfEF2_FGqv",
        "outputId": "71480967-fd90-412f-e836-e776bce55515"
      },
      "execution_count": 27,
      "outputs": [
        {
          "name": "stdout",
          "output_type": "stream",
          "text": [
            "Enter the number and check if that is palindrome or not:6\n"
          ]
        },
        {
          "output_type": "execute_result",
          "data": {
            "text/plain": [
              "1"
            ]
          },
          "metadata": {},
          "execution_count": 27
        }
      ]
    },
    {
      "cell_type": "code",
      "source": [
        "# Complexity Analysis\n",
        "\n",
        "  # Time Complexity :\n",
        "    # Since we are iterating over n times to calculate the factorial value,\n",
        "    #the Time Complexity for calculating the number of trailing zeros in\n",
        "    #factorial is\n",
        "    # O(n).\n",
        "\n",
        "  # Space Complexity :\n",
        "    #While no auxiliary space is required to calculate the number of trailing\n",
        "    #zeros in factorial, Space Complexity is\n",
        "    #O(1)."
      ],
      "metadata": {
        "id": "eXyRkCcyGEzy"
      },
      "execution_count": 29,
      "outputs": []
    },
    {
      "cell_type": "code",
      "source": [
        "# naive approuch\n",
        "def trailing_zeros(n):\n",
        "  count_zero=0\n",
        "  while(n>=5):\n",
        "    n=n//5\n",
        "    count_zero=n+count_zero\n",
        "  return count_zero\n",
        "\n",
        "\n",
        "s=input(\"Enter the number and check if that is palindrome or not:\")\n",
        "trailing_zeros(int(s))"
      ],
      "metadata": {
        "colab": {
          "base_uri": "https://localhost:8080/"
        },
        "id": "dOXUD097HEUa",
        "outputId": "c7fea105-9860-45bd-96c8-6a9ce26d75cf"
      },
      "execution_count": 33,
      "outputs": [
        {
          "name": "stdout",
          "output_type": "stream",
          "text": [
            "Enter the number and check if that is palindrome or not:100\n"
          ]
        },
        {
          "output_type": "execute_result",
          "data": {
            "text/plain": [
              "24"
            ]
          },
          "metadata": {},
          "execution_count": 33
        }
      ]
    },
    {
      "cell_type": "code",
      "source": [
        "#### GCD or HCF of two numbers"
      ],
      "metadata": {
        "id": "vHJhafY1JzNN"
      },
      "execution_count": 35,
      "outputs": []
    },
    {
      "cell_type": "code",
      "source": [
        "import math\n",
        "def gcdFunc(a,b):\n",
        "  return math.gcd(a,b)\n",
        "a=input(\"Enter value of a: \")\n",
        "b=input(\"Enter value of b: \")\n",
        "gcdFunc(int(a),int(b))"
      ],
      "metadata": {
        "colab": {
          "base_uri": "https://localhost:8080/"
        },
        "id": "j_QZ4cNTKDsJ",
        "outputId": "a5500db3-640c-4e7b-ed0e-27097f79b9fd"
      },
      "execution_count": 62,
      "outputs": [
        {
          "name": "stdout",
          "output_type": "stream",
          "text": [
            "Enter value of a: 60\n",
            "Enter value of b: 48\n"
          ]
        },
        {
          "output_type": "execute_result",
          "data": {
            "text/plain": [
              "12"
            ]
          },
          "metadata": {},
          "execution_count": 62
        }
      ]
    },
    {
      "cell_type": "code",
      "source": [
        "#Using Euclidean Algorithm :\n",
        "  # Pseudo Code of the Algorithm-\n",
        "\n",
        "  # Let  a, b  be the two numbers\n",
        "  # a mod b = R\n",
        "  # Let  a = b  and  b = R\n",
        "  # Repeat Steps 2 and 3 until  a mod b  is greater than 0\n",
        "  # GCD = b\n",
        "\n",
        "import math\n",
        "def gcdFunc(a,b):\n",
        "  x=max(a,b)\n",
        "\n",
        "  y=min(a,b)\n",
        "  if x%y==0:\n",
        "    return y\n",
        "  while(x%y>0):\n",
        "    Remainder=x%y\n",
        "    x=y\n",
        "    y=Remainder\n",
        "  return Remainder\n",
        "\n",
        "\n",
        "a=input(\"Enter value of a: \")\n",
        "b=input(\"Enter value of b: \")\n",
        "gcdFunc(int(a),int(b))"
      ],
      "metadata": {
        "colab": {
          "base_uri": "https://localhost:8080/"
        },
        "id": "DhqxOseALAJa",
        "outputId": "8bd557a6-bd88-415f-a1e6-267c3468fa19"
      },
      "execution_count": 64,
      "outputs": [
        {
          "name": "stdout",
          "output_type": "stream",
          "text": [
            "Enter value of a: 60\n",
            "Enter value of b: 48\n"
          ]
        },
        {
          "output_type": "execute_result",
          "data": {
            "text/plain": [
              "12"
            ]
          },
          "metadata": {},
          "execution_count": 64
        }
      ]
    },
    {
      "cell_type": "code",
      "source": [
        "import math\n",
        "def gcdFunc(a,b):\n",
        "\n",
        "  while(a!=b):\n",
        "    if a >b:\n",
        "      a=a-b\n",
        "    else:\n",
        "      b=b-a\n",
        "  return b\n",
        "\n",
        "\n",
        "a=input(\"Enter value of a: \")\n",
        "b=input(\"Enter value of b: \")\n",
        "gcdFunc(int(a),int(b))"
      ],
      "metadata": {
        "colab": {
          "base_uri": "https://localhost:8080/"
        },
        "id": "hXaef-s_NPLC",
        "outputId": "3ba29b38-fa43-48cb-9335-f12eaf19388c"
      },
      "execution_count": 66,
      "outputs": [
        {
          "name": "stdout",
          "output_type": "stream",
          "text": [
            "Enter value of a: 12\n",
            "Enter value of b: 8\n"
          ]
        },
        {
          "output_type": "execute_result",
          "data": {
            "text/plain": [
              "4"
            ]
          },
          "metadata": {},
          "execution_count": 66
        }
      ]
    },
    {
      "cell_type": "code",
      "source": [
        "import math\n",
        "def gcdFunc(a,b):\n",
        "  if b==0:\n",
        "    return a\n",
        "  else:\n",
        "    return gcdFunc(b,a%b)\n",
        "\n",
        "\n",
        "a=input(\"Enter value of a: \")\n",
        "b=input(\"Enter value of b: \")\n",
        "gcdFunc(int(a),int(b))"
      ],
      "metadata": {
        "colab": {
          "base_uri": "https://localhost:8080/"
        },
        "id": "dMtqVIyVSxJ1",
        "outputId": "e3edd25d-fca2-4028-d028-7ad84bdead7f"
      },
      "execution_count": 69,
      "outputs": [
        {
          "name": "stdout",
          "output_type": "stream",
          "text": [
            "Enter value of a: 12\n",
            "Enter value of b: 20\n"
          ]
        },
        {
          "output_type": "execute_result",
          "data": {
            "text/plain": [
              "4"
            ]
          },
          "metadata": {},
          "execution_count": 69
        }
      ]
    },
    {
      "cell_type": "code",
      "source": [
        "#### LCM of two numbers"
      ],
      "metadata": {
        "id": "7dQxLAG3Tmmc"
      },
      "execution_count": 73,
      "outputs": []
    },
    {
      "cell_type": "code",
      "source": [
        "\n",
        "def lcm(a,b):\n",
        "  result=max(a,b)\n",
        "\n",
        "  while True:\n",
        "    if result%a==0 and result%b==0:\n",
        "      return result\n",
        "    result=result+1\n",
        "\n",
        "\n",
        "a=input(\"Enter value of a: \")\n",
        "b=input(\"Enter value of b: \")\n",
        "lcm(int(a),int(b))"
      ],
      "metadata": {
        "colab": {
          "base_uri": "https://localhost:8080/"
        },
        "id": "qzymM4XEW5T4",
        "outputId": "4bd8f3f2-11f5-4024-a1f9-1cb018d03874"
      },
      "execution_count": 79,
      "outputs": [
        {
          "name": "stdout",
          "output_type": "stream",
          "text": [
            "Enter value of a: 7\n",
            "Enter value of b: 21\n"
          ]
        },
        {
          "output_type": "execute_result",
          "data": {
            "text/plain": [
              "21"
            ]
          },
          "metadata": {},
          "execution_count": 79
        }
      ]
    },
    {
      "cell_type": "code",
      "source": [
        "def gcd(a,b):\n",
        "  if b==0:\n",
        "    return a\n",
        "  else:\n",
        "    return gcd(b,a%b)\n",
        "\n",
        "def lcm(a,b):\n",
        "  return a*b//gcd(a,b)\n",
        "\n",
        "a=input(\"Enter value of a: \")\n",
        "b=input(\"Enter value of b: \")\n",
        "lcm(int(a),int(b))"
      ],
      "metadata": {
        "colab": {
          "base_uri": "https://localhost:8080/"
        },
        "id": "U_71P5_1ZSOl",
        "outputId": "e0598a1c-9686-4de5-b9f1-6f95d5168c80"
      },
      "execution_count": 81,
      "outputs": [
        {
          "name": "stdout",
          "output_type": "stream",
          "text": [
            "Enter value of a: 13\n",
            "Enter value of b: 43\n"
          ]
        },
        {
          "output_type": "execute_result",
          "data": {
            "text/plain": [
              "559"
            ]
          },
          "metadata": {},
          "execution_count": 81
        }
      ]
    },
    {
      "cell_type": "code",
      "source": [
        "#### Check Prime Number"
      ],
      "metadata": {
        "id": "CcHjRstvb-2h"
      },
      "execution_count": 81,
      "outputs": []
    },
    {
      "cell_type": "code",
      "source": [
        "def check_prime_number(n):\n",
        "  if n==1:\n",
        "    return \"not a prime number\"\n",
        "    return None\n",
        "  i=2\n",
        "  while(i<n):\n",
        "    remainder=n%i\n",
        "    if remainder ==0:\n",
        "      return \"not a prime\"\n",
        "    i=i+1\n",
        "  if i==n:\n",
        "    return \"it is prime\"\n",
        "n=int(input(\"Enter the number and check if is prime!\"))\n",
        "check_prime_number(n)"
      ],
      "metadata": {
        "colab": {
          "base_uri": "https://localhost:8080/",
          "height": 53
        },
        "id": "T9G6pv0edWnr",
        "outputId": "55d83ea1-5f09-4292-f1d0-0ac611c5616a"
      },
      "execution_count": 103,
      "outputs": [
        {
          "name": "stdout",
          "output_type": "stream",
          "text": [
            "Enter the number and check if is prime!1031\n"
          ]
        },
        {
          "output_type": "execute_result",
          "data": {
            "text/plain": [
              "'it is prime'"
            ],
            "application/vnd.google.colaboratory.intrinsic+json": {
              "type": "string"
            }
          },
          "metadata": {},
          "execution_count": 103
        }
      ]
    },
    {
      "cell_type": "code",
      "source": [
        "def check_prime_number(n):\n",
        "  if n==1:\n",
        "    return \"not a prime number\"\n",
        "  i=2\n",
        "  while(i*i<n):\n",
        "    remainder=n%i\n",
        "    if remainder ==0:\n",
        "      return \"not a prime\"\n",
        "    i=i+1\n",
        "  return \"it is prime\"\n",
        "n=int(input(\"Enter the number and check if is prime!:\"))\n",
        "check_prime_number(n)"
      ],
      "metadata": {
        "colab": {
          "base_uri": "https://localhost:8080/",
          "height": 53
        },
        "id": "7M3M56vNfHmq",
        "outputId": "704c1606-7acb-451f-ae20-272d2a7561c1"
      },
      "execution_count": 104,
      "outputs": [
        {
          "name": "stdout",
          "output_type": "stream",
          "text": [
            "Enter the number and check if is prime!:1031\n"
          ]
        },
        {
          "output_type": "execute_result",
          "data": {
            "text/plain": [
              "'it is prime'"
            ],
            "application/vnd.google.colaboratory.intrinsic+json": {
              "type": "string"
            }
          },
          "metadata": {},
          "execution_count": 104
        }
      ]
    },
    {
      "cell_type": "code",
      "source": [
        "def check_prime_number(n):\n",
        "  if n==1:\n",
        "    return \"not a prime\"\n",
        "  if n==2 or n==3:\n",
        "    return \"prime\"\n",
        "  if n%2==0 or n%3 ==0:\n",
        "    return \"not a prime\"\n",
        "  i=5\n",
        "  while(i*i<n):\n",
        "    remainder=n%i\n",
        "    remainder_new=n%(i+2)\n",
        "    if remainder ==0 or remainder_new==0:\n",
        "      return \"not a prime\"\n",
        "    i=i+6\n",
        "  return \"it is prime\"\n",
        "n=int(input(\"Enter the number and check if is prime!:\"))\n",
        "check_prime_number(n)"
      ],
      "metadata": {
        "colab": {
          "base_uri": "https://localhost:8080/",
          "height": 53
        },
        "id": "ouXKHOhbh3dU",
        "outputId": "f24bc33e-59ec-4dc9-e006-2a63201a3b6b"
      },
      "execution_count": 105,
      "outputs": [
        {
          "name": "stdout",
          "output_type": "stream",
          "text": [
            "Enter the number and check if is prime!:1031\n"
          ]
        },
        {
          "output_type": "execute_result",
          "data": {
            "text/plain": [
              "'it is prime'"
            ],
            "application/vnd.google.colaboratory.intrinsic+json": {
              "type": "string"
            }
          },
          "metadata": {},
          "execution_count": 105
        }
      ]
    },
    {
      "cell_type": "code",
      "source": [
        "#### Prime Facorization"
      ],
      "metadata": {
        "id": "xfUITyDfi3tL"
      },
      "execution_count": 97,
      "outputs": []
    }
  ]
}